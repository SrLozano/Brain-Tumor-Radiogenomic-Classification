{
 "cells": [
  {
   "cell_type": "markdown",
   "id": "5691ea78",
   "metadata": {
    "papermill": {
     "duration": 0.006685,
     "end_time": "2022-12-09T11:50:52.909344",
     "exception": false,
     "start_time": "2022-12-09T11:50:52.902659",
     "status": "completed"
    },
    "tags": []
   },
   "source": [
    "# **RSNA-MICCAI Brain Tumor Radiogenomic Classification**\n",
    "**Predict the status of a genetic biomarker important for brain cancer treatment**"
   ]
  },
  {
   "cell_type": "markdown",
   "id": "99a99d17",
   "metadata": {
    "papermill": {
     "duration": 0.004497,
     "end_time": "2022-12-09T11:50:52.918724",
     "exception": false,
     "start_time": "2022-12-09T11:50:52.914227",
     "status": "completed"
    },
    "tags": []
   },
   "source": [
    "# **Imports and variable declarations**\n",
    "\n",
    "This section contains the libraries used in the notebook as well as the variables relating to the parameters of the generated network."
   ]
  },
  {
   "cell_type": "code",
   "execution_count": 1,
   "id": "365de593",
   "metadata": {
    "execution": {
     "iopub.execute_input": "2022-12-09T11:50:52.929625Z",
     "iopub.status.busy": "2022-12-09T11:50:52.929135Z",
     "iopub.status.idle": "2022-12-09T11:50:58.398948Z",
     "shell.execute_reply": "2022-12-09T11:50:58.397987Z"
    },
    "papermill": {
     "duration": 5.478322,
     "end_time": "2022-12-09T11:50:58.401671",
     "exception": false,
     "start_time": "2022-12-09T11:50:52.923349",
     "status": "completed"
    },
    "tags": []
   },
   "outputs": [],
   "source": [
    "import os # os functionalities\n",
    "import re # regular expressions\n",
    "import numpy as np # linear algebra\n",
    "import pandas as pd # data processing\n",
    "from skimage import io # image manipulation\n",
    "from matplotlib import pyplot as plt # image visualization\n",
    "\n",
    "import seaborn as sns\n",
    "\n",
    "# Tensorflow & Keras & SkLearn\n",
    "import keras\n",
    "import tensorflow as tf\n",
    "#warnings.filterwarnings('ignore')\n",
    "from keras.applications.vgg16 import VGG16\n",
    "from sklearn.model_selection import train_test_split # divide dataset\n",
    "from sklearn.metrics import classification_report, confusion_matrix, roc_auc_score # confusion matrix"
   ]
  },
  {
   "cell_type": "code",
   "execution_count": 2,
   "id": "41114180",
   "metadata": {
    "_cell_guid": "b1076dfc-b9ad-4769-8c92-a6c4dae69d19",
    "_uuid": "8f2839f25d086af736a60e9eeb907d3b93b6e0e5",
    "execution": {
     "iopub.execute_input": "2022-12-09T11:50:58.414106Z",
     "iopub.status.busy": "2022-12-09T11:50:58.413452Z",
     "iopub.status.idle": "2022-12-09T11:50:58.419008Z",
     "shell.execute_reply": "2022-12-09T11:50:58.417953Z"
    },
    "papermill": {
     "duration": 0.014503,
     "end_time": "2022-12-09T11:50:58.421371",
     "exception": false,
     "start_time": "2022-12-09T11:50:58.406868",
     "status": "completed"
    },
    "tags": []
   },
   "outputs": [],
   "source": [
    "# Variable declaration\n",
    "image_mode = \"T2w\" # FLAIR - T1w - T1wCE - T2w\n",
    "patient_mode = \"all\" # all - central - first TODO: Explain \n",
    "input_dir = \"../input/rsna-miccai-png/train\" \n",
    "target_dir = \"../input/rsna-miccai-png/test\"\n",
    "\n",
    "# Model variables\n",
    "epochs = 4\n",
    "batch_size = 64\n",
    "learning_rate = 0.01\n",
    "optimizer = \"RMSprop\"\n",
    "loss_function = \"binary_crossentropy\"\n"
   ]
  },
  {
   "cell_type": "markdown",
   "id": "c831667c",
   "metadata": {
    "papermill": {
     "duration": 0.004503,
     "end_time": "2022-12-09T11:50:58.430564",
     "exception": false,
     "start_time": "2022-12-09T11:50:58.426061",
     "status": "completed"
    },
    "tags": []
   },
   "source": [
    "# **Data loading**"
   ]
  },
  {
   "cell_type": "code",
   "execution_count": 3,
   "id": "4c17fe90",
   "metadata": {
    "execution": {
     "iopub.execute_input": "2022-12-09T11:50:58.441212Z",
     "iopub.status.busy": "2022-12-09T11:50:58.440940Z",
     "iopub.status.idle": "2022-12-09T11:51:46.094648Z",
     "shell.execute_reply": "2022-12-09T11:51:46.093536Z"
    },
    "papermill": {
     "duration": 47.661759,
     "end_time": "2022-12-09T11:51:46.097012",
     "exception": false,
     "start_time": "2022-12-09T11:50:58.435253",
     "status": "completed"
    },
    "tags": []
   },
   "outputs": [],
   "source": [
    "# Get path to the training images\n",
    "input_img_paths_patients = sorted([\n",
    "    os.path.join(input_dir, fname + \"/\" + image_mode) \n",
    "    for fname in os.listdir(input_dir)\n",
    "    if os.path.exists(os.path.join(input_dir, fname + \"/\" + image_mode))])\n",
    "\n",
    "# Read images\n",
    "input_img_paths = []\n",
    "for patient in input_img_paths_patients:\n",
    "    # TODO: Explain\n",
    "    # TODO: Choosing first makes no sense. Because of the way images are taken. Center or bigger\n",
    "    images_id = x = [int(re.findall(r'\\d+', x)[0]) for x in os.listdir(patient)] # Get all image ids\n",
    "    if patient_mode == \"central\":\n",
    "        index_central_image = min(images_id) + round((max(images_id) - min(images_id))/2) # Get middle image\n",
    "        path = os.path.join(patient, \"Image-\" + str(index_central_image) + \".png\")\n",
    "        if os.path.exists(path): input_img_paths.append(path)\n",
    "    if patient_mode == \"first\":\n",
    "        index_central_image = min(images_id) # Get first image\n",
    "        path = os.path.join(patient, \"Image-\" + str(index_central_image) + \".png\")\n",
    "        if os.path.exists(path): input_img_paths.append(path)\n",
    "    if patient_mode == 'all': # Add all of the available images\n",
    "        for image in images_id:\n",
    "            path = os.path.join(patient, \"Image-\" + str(image) + \".png\")\n",
    "            if os.path.exists(path): input_img_paths.append(path)\n",
    "        \n",
    "# Read csv labels\n",
    "df = pd.read_csv('../input/rsna-miccai-brain-tumor-radiogenomic-classification/train_labels.csv')\n",
    "\n",
    "# Obtain pure labels\n",
    "labels = []\n",
    "for img_path in input_img_paths:\n",
    "    labels.append(df.loc[df['BraTS21ID'] == int(re.findall(r'\\d+', img_path)[0])]['MGMT_value'].iloc[0])"
   ]
  },
  {
   "cell_type": "code",
   "execution_count": 4,
   "id": "3327e774",
   "metadata": {
    "execution": {
     "iopub.execute_input": "2022-12-09T11:51:46.109559Z",
     "iopub.status.busy": "2022-12-09T11:51:46.108621Z",
     "iopub.status.idle": "2022-12-09T11:51:46.212178Z",
     "shell.execute_reply": "2022-12-09T11:51:46.211179Z"
    },
    "papermill": {
     "duration": 0.112614,
     "end_time": "2022-12-09T11:51:46.214917",
     "exception": false,
     "start_time": "2022-12-09T11:51:46.102303",
     "status": "completed"
    },
    "tags": []
   },
   "outputs": [
    {
     "name": "stdout",
     "output_type": "stream",
     "text": [
      "Training samples: 56583\n",
      "Validation samples: 7066\n",
      "Test samples: 7073\n"
     ]
    }
   ],
   "source": [
    "# Split data into train, validation and test\n",
    "X_train, X_test, y_train, y_test = train_test_split(input_img_paths, labels, test_size=0.1, random_state=42)\n",
    "X_train, X_val, y_train, y_val = train_test_split(X_train, y_train, test_size=0.111, random_state=42) # 0.111*0.9 = 0.1\n",
    "\n",
    "# Check amounts of data in each split\n",
    "print(f\"Training samples: {str(len(X_train))}\\nValidation samples: {str(len(X_val))}\\nTest samples: {str(len(X_test))}\")\n",
    "\n",
    "# Create dataframes for keras flow_from_dataframe\n",
    "data = {'id': X_train, 'label': [str(x) for x in y_train]}\n",
    "train_df = pd.DataFrame(data)\n",
    "\n",
    "data = {'id': X_val, 'label': [str(x) for x in y_val]}\n",
    "val_df = pd.DataFrame(data)\n",
    "\n",
    "data = {'id': X_test, 'label': [str(x) for x in y_test]}\n",
    "test_df = pd.DataFrame(data)"
   ]
  },
  {
   "cell_type": "code",
   "execution_count": 5,
   "id": "eddca45e",
   "metadata": {
    "execution": {
     "iopub.execute_input": "2022-12-09T11:51:46.228750Z",
     "iopub.status.busy": "2022-12-09T11:51:46.228267Z",
     "iopub.status.idle": "2022-12-09T11:51:46.237301Z",
     "shell.execute_reply": "2022-12-09T11:51:46.236196Z"
    },
    "papermill": {
     "duration": 0.018863,
     "end_time": "2022-12-09T11:51:46.239595",
     "exception": false,
     "start_time": "2022-12-09T11:51:46.220732",
     "status": "completed"
    },
    "tags": []
   },
   "outputs": [],
   "source": [
    "def load_dataset(train_df, val_df, test_df, data_augmentation=False):\n",
    "    \"\"\"\n",
    "    This function loads the dataset from dataset folder\n",
    "    :parameter train_df: Dataframe with paths to training images and labels\n",
    "    :parameter val_df: Dataframe with paths to validation images and labels\n",
    "    :parameter test_df: Dataframe with paths to test images and labels\n",
    "    :parameter data_augmentation: Boolean indicating whether to include or not data augmentation\n",
    "    :return train_generator: Training generator\n",
    "    :return val_generator: Validation generator\n",
    "    :return test_generator: Testing generator\n",
    "    \"\"\"\n",
    "\n",
    "    # Create a data generator\n",
    "    if data_augmentation:\n",
    "        datagen_train = tf.keras.preprocessing.image.ImageDataGenerator(rescale=1.0/255.0,\n",
    "                                                                        rotation_range=20,\n",
    "                                                                        width_shift_range=0.1,\n",
    "                                                                        height_shift_range=0.1,\n",
    "                                                                        zoom_range=0.2,\n",
    "                                                                        horizontal_flip=True)\n",
    "    else:\n",
    "        datagen_train = tf.keras.preprocessing.image.ImageDataGenerator(rescale=1.0/255.0)\n",
    "        \n",
    "    datagen_val_test = tf.keras.preprocessing.image.ImageDataGenerator(rescale=1.0/255.0)\n",
    "\n",
    "    # Load and iterate training dataset\n",
    "    train_generator=datagen_train.flow_from_dataframe(dataframe=train_df, x_col=\"id\", y_col=\"label\", \n",
    "                                                      class_mode=\"binary\", batch_size=batch_size, target_size=(224, 224))\n",
    "    # Load and iterate validation dataset\n",
    "    val_generator=datagen_val_test.flow_from_dataframe(dataframe=val_df, x_col=\"id\", y_col=\"label\", \n",
    "                                                       class_mode=\"binary\", batch_size=batch_size, target_size=(224, 224))\n",
    "    # Load and iterate test dataset\n",
    "    test_generator=datagen_val_test.flow_from_dataframe(dataframe=test_df, x_col=\"id\", y_col=\"label\", \n",
    "                                                        class_mode=\"binary\", batch_size=batch_size, target_size=(224, 224))\n",
    "\n",
    "    return train_generator, val_generator, test_generator"
   ]
  },
  {
   "cell_type": "markdown",
   "id": "1155d149",
   "metadata": {
    "papermill": {
     "duration": 0.004598,
     "end_time": "2022-12-09T11:51:46.249109",
     "exception": false,
     "start_time": "2022-12-09T11:51:46.244511",
     "status": "completed"
    },
    "tags": []
   },
   "source": [
    "## **Data visualization**"
   ]
  },
  {
   "cell_type": "code",
   "execution_count": 6,
   "id": "414b1be7",
   "metadata": {
    "execution": {
     "iopub.execute_input": "2022-12-09T11:51:46.260370Z",
     "iopub.status.busy": "2022-12-09T11:51:46.260057Z",
     "iopub.status.idle": "2022-12-09T11:51:48.034945Z",
     "shell.execute_reply": "2022-12-09T11:51:48.033945Z"
    },
    "papermill": {
     "duration": 1.784607,
     "end_time": "2022-12-09T11:51:48.038778",
     "exception": false,
     "start_time": "2022-12-09T11:51:46.254171",
     "status": "completed"
    },
    "tags": []
   },
   "outputs": [
    {
     "data": {
      "image/png": "[encoded data removed]",
      "text/plain": [
       "<Figure size 1440x720 with 10 Axes>"
      ]
     },
     "metadata": {
      "needs_background": "light"
     },
     "output_type": "display_data"
    }
   ],
   "source": [
    "samples = 5\n",
    "selected = pd.concat([train_df[train_df.label.eq('0')].sample(samples), train_df[train_df.label.eq('1')].sample(samples)])\n",
    "\n",
    "# Create figure\n",
    "fig = plt.figure(figsize=(20, 10))\n",
    "\n",
    "# Cetting values to rows and column variables\n",
    "rows = 2\n",
    "columns = samples\n",
    "\n",
    "for element in range(0, len(selected)):\n",
    "\n",
    "    # Plot images - Visualize an image and it's segmentation\n",
    "    fig.add_subplot(rows, columns, element + 1)\n",
    "    plt.imshow(io.imread(list(selected['id'])[element]), cmap='gray')\n",
    "    plt.title(f\"Tumor presence: {list(selected['label'])[element]}\")"
   ]
  },
  {
   "cell_type": "code",
   "execution_count": 7,
   "id": "ae55f55b",
   "metadata": {
    "execution": {
     "iopub.execute_input": "2022-12-09T11:51:48.055179Z",
     "iopub.status.busy": "2022-12-09T11:51:48.054863Z",
     "iopub.status.idle": "2022-12-09T11:51:48.068822Z",
     "shell.execute_reply": "2022-12-09T11:51:48.067839Z"
    },
    "papermill": {
     "duration": 0.024802,
     "end_time": "2022-12-09T11:51:48.070923",
     "exception": false,
     "start_time": "2022-12-09T11:51:48.046121",
     "status": "completed"
    },
    "tags": []
   },
   "outputs": [
    {
     "data": {
      "text/html": [
       "<div>\n",
       "<style scoped>\n",
       "    .dataframe tbody tr th:only-of-type {\n",
       "        vertical-align: middle;\n",
       "    }\n",
       "\n",
       "    .dataframe tbody tr th {\n",
       "        vertical-align: top;\n",
       "    }\n",
       "\n",
       "    .dataframe thead th {\n",
       "        text-align: right;\n",
       "    }\n",
       "</style>\n",
       "<table border=\"1\" class=\"dataframe\">\n",
       "  <thead>\n",
       "    <tr style=\"text-align: right;\">\n",
       "      <th></th>\n",
       "      <th>id</th>\n",
       "      <th>label</th>\n",
       "    </tr>\n",
       "  </thead>\n",
       "  <tbody>\n",
       "    <tr>\n",
       "      <th>53053</th>\n",
       "      <td>../input/rsna-miccai-png/train/00512/T2w/Image...</td>\n",
       "      <td>0</td>\n",
       "    </tr>\n",
       "    <tr>\n",
       "      <th>43393</th>\n",
       "      <td>../input/rsna-miccai-png/train/00735/T2w/Image...</td>\n",
       "      <td>0</td>\n",
       "    </tr>\n",
       "    <tr>\n",
       "      <th>22764</th>\n",
       "      <td>../input/rsna-miccai-png/train/00540/T2w/Image...</td>\n",
       "      <td>0</td>\n",
       "    </tr>\n",
       "    <tr>\n",
       "      <th>30315</th>\n",
       "      <td>../input/rsna-miccai-png/train/00510/T2w/Image...</td>\n",
       "      <td>0</td>\n",
       "    </tr>\n",
       "    <tr>\n",
       "      <th>48542</th>\n",
       "      <td>../input/rsna-miccai-png/train/00097/T2w/Image...</td>\n",
       "      <td>0</td>\n",
       "    </tr>\n",
       "    <tr>\n",
       "      <th>37983</th>\n",
       "      <td>../input/rsna-miccai-png/train/00758/T2w/Image...</td>\n",
       "      <td>1</td>\n",
       "    </tr>\n",
       "    <tr>\n",
       "      <th>35054</th>\n",
       "      <td>../input/rsna-miccai-png/train/00646/T2w/Image...</td>\n",
       "      <td>1</td>\n",
       "    </tr>\n",
       "    <tr>\n",
       "      <th>20395</th>\n",
       "      <td>../input/rsna-miccai-png/train/00732/T2w/Image...</td>\n",
       "      <td>1</td>\n",
       "    </tr>\n",
       "    <tr>\n",
       "      <th>54232</th>\n",
       "      <td>../input/rsna-miccai-png/train/00078/T2w/Image...</td>\n",
       "      <td>1</td>\n",
       "    </tr>\n",
       "    <tr>\n",
       "      <th>6248</th>\n",
       "      <td>../input/rsna-miccai-png/train/00613/T2w/Image...</td>\n",
       "      <td>1</td>\n",
       "    </tr>\n",
       "  </tbody>\n",
       "</table>\n",
       "</div>"
      ],
      "text/plain": [
       "                                                      id label\n",
       "53053  ../input/rsna-miccai-png/train/00512/T2w/Image...     0\n",
       "43393  ../input/rsna-miccai-png/train/00735/T2w/Image...     0\n",
       "22764  ../input/rsna-miccai-png/train/00540/T2w/Image...     0\n",
       "30315  ../input/rsna-miccai-png/train/00510/T2w/Image...     0\n",
       "48542  ../input/rsna-miccai-png/train/00097/T2w/Image...     0\n",
       "37983  ../input/rsna-miccai-png/train/00758/T2w/Image...     1\n",
       "35054  ../input/rsna-miccai-png/train/00646/T2w/Image...     1\n",
       "20395  ../input/rsna-miccai-png/train/00732/T2w/Image...     1\n",
       "54232  ../input/rsna-miccai-png/train/00078/T2w/Image...     1\n",
       "6248   ../input/rsna-miccai-png/train/00613/T2w/Image...     1"
      ]
     },
     "execution_count": 7,
     "metadata": {},
     "output_type": "execute_result"
    }
   ],
   "source": [
    "selected"
   ]
  },
  {
   "cell_type": "code",
   "execution_count": 8,
   "id": "bd736633",
   "metadata": {
    "execution": {
     "iopub.execute_input": "2022-12-09T11:51:48.086488Z",
     "iopub.status.busy": "2022-12-09T11:51:48.085648Z",
     "iopub.status.idle": "2022-12-09T11:52:12.109974Z",
     "shell.execute_reply": "2022-12-09T11:52:12.108687Z"
    },
    "papermill": {
     "duration": 24.034302,
     "end_time": "2022-12-09T11:52:12.112188",
     "exception": false,
     "start_time": "2022-12-09T11:51:48.077886",
     "status": "completed"
    },
    "tags": []
   },
   "outputs": [
    {
     "name": "stdout",
     "output_type": "stream",
     "text": [
      "Found 56583 validated image filenames belonging to 2 classes.\n",
      "Found 7066 validated image filenames belonging to 2 classes.\n",
      "Found 7073 validated image filenames belonging to 2 classes.\n"
     ]
    }
   ],
   "source": [
    "# Load dataset\n",
    "train_generator, val_generator, test_generator = load_dataset(train_df, val_df, test_df)"
   ]
  },
  {
   "cell_type": "markdown",
   "id": "02cfb8ce",
   "metadata": {
    "papermill": {
     "duration": 0.006561,
     "end_time": "2022-12-09T11:52:12.125823",
     "exception": false,
     "start_time": "2022-12-09T11:52:12.119262",
     "status": "completed"
    },
    "tags": []
   },
   "source": [
    "# **Model definition**"
   ]
  },
  {
   "cell_type": "code",
   "execution_count": 9,
   "id": "a65570c6",
   "metadata": {
    "execution": {
     "iopub.execute_input": "2022-12-09T11:52:12.140979Z",
     "iopub.status.busy": "2022-12-09T11:52:12.140271Z",
     "iopub.status.idle": "2022-12-09T11:52:18.657018Z",
     "shell.execute_reply": "2022-12-09T11:52:18.655848Z"
    },
    "papermill": {
     "duration": 6.527311,
     "end_time": "2022-12-09T11:52:18.659756",
     "exception": false,
     "start_time": "2022-12-09T11:52:12.132445",
     "status": "completed"
    },
    "tags": []
   },
   "outputs": [
    {
     "name": "stderr",
     "output_type": "stream",
     "text": [
      "2022-12-09 11:52:12.259187: I tensorflow/stream_executor/cuda/cuda_gpu_executor.cc:937] successful NUMA node read from SysFS had negative value (-1), but there must be at least one NUMA node, so returning NUMA node zero\n",
      "2022-12-09 11:52:12.339579: I tensorflow/stream_executor/cuda/cuda_gpu_executor.cc:937] successful NUMA node read from SysFS had negative value (-1), but there must be at least one NUMA node, so returning NUMA node zero\n",
      "2022-12-09 11:52:12.340372: I tensorflow/stream_executor/cuda/cuda_gpu_executor.cc:937] successful NUMA node read from SysFS had negative value (-1), but there must be at least one NUMA node, so returning NUMA node zero\n",
      "2022-12-09 11:52:12.342136: I tensorflow/core/platform/cpu_feature_guard.cc:142] This TensorFlow binary is optimized with oneAPI Deep Neural Network Library (oneDNN) to use the following CPU instructions in performance-critical operations:  AVX2 AVX512F FMA\n",
      "To enable them in other operations, rebuild TensorFlow with the appropriate compiler flags.\n",
      "2022-12-09 11:52:12.342513: I tensorflow/stream_executor/cuda/cuda_gpu_executor.cc:937] successful NUMA node read from SysFS had negative value (-1), but there must be at least one NUMA node, so returning NUMA node zero\n",
      "2022-12-09 11:52:12.343213: I tensorflow/stream_executor/cuda/cuda_gpu_executor.cc:937] successful NUMA node read from SysFS had negative value (-1), but there must be at least one NUMA node, so returning NUMA node zero\n",
      "2022-12-09 11:52:12.343972: I tensorflow/stream_executor/cuda/cuda_gpu_executor.cc:937] successful NUMA node read from SysFS had negative value (-1), but there must be at least one NUMA node, so returning NUMA node zero\n",
      "2022-12-09 11:52:14.445297: I tensorflow/stream_executor/cuda/cuda_gpu_executor.cc:937] successful NUMA node read from SysFS had negative value (-1), but there must be at least one NUMA node, so returning NUMA node zero\n",
      "2022-12-09 11:52:14.446440: I tensorflow/stream_executor/cuda/cuda_gpu_executor.cc:937] successful NUMA node read from SysFS had negative value (-1), but there must be at least one NUMA node, so returning NUMA node zero\n",
      "2022-12-09 11:52:14.447350: I tensorflow/stream_executor/cuda/cuda_gpu_executor.cc:937] successful NUMA node read from SysFS had negative value (-1), but there must be at least one NUMA node, so returning NUMA node zero\n",
      "2022-12-09 11:52:14.448282: I tensorflow/core/common_runtime/gpu/gpu_device.cc:1510] Created device /job:localhost/replica:0/task:0/device:GPU:0 with 15401 MB memory:  -> device: 0, name: Tesla P100-PCIE-16GB, pci bus id: 0000:00:04.0, compute capability: 6.0\n"
     ]
    },
    {
     "name": "stdout",
     "output_type": "stream",
     "text": [
      "Downloading data from https://storage.googleapis.com/tensorflow/keras-applications/vgg16/vgg16_weights_tf_dim_ordering_tf_kernels_notop.h5\n",
      "58892288/58889256 [==============================] - 3s 0us/step\n",
      "58900480/58889256 [==============================] - 3s 0us/step\n",
      "Model: \"model\"\n",
      "_________________________________________________________________\n",
      "Layer (type)                 Output Shape              Param #   \n",
      "=================================================================\n",
      "input_2 (InputLayer)         [(None, 224, 224, 3)]     0         \n",
      "_________________________________________________________________\n",
      "vgg16 (Functional)           (None, 7, 7, 512)         14714688  \n",
      "_________________________________________________________________\n",
      "global_average_pooling2d (Gl (None, 512)               0         \n",
      "_________________________________________________________________\n",
      "dense (Dense)                (None, 128)               65664     \n",
      "_________________________________________________________________\n",
      "dense_1 (Dense)              (None, 64)                8256      \n",
      "_________________________________________________________________\n",
      "dense_2 (Dense)              (None, 32)                2080      \n",
      "_________________________________________________________________\n",
      "dense_3 (Dense)              (None, 1)                 33        \n",
      "=================================================================\n",
      "Total params: 14,790,721\n",
      "Trainable params: 76,033\n",
      "Non-trainable params: 14,714,688\n",
      "_________________________________________________________________\n"
     ]
    }
   ],
   "source": [
    "# Free up RAM in case the model definition cells were run multiple times\n",
    "keras.backend.clear_session()\n",
    "\n",
    "# Build model\n",
    "\n",
    "base_model = VGG16(include_top=False, input_shape=(224, 224, 3), weights='imagenet')\n",
    "base_model.trainable = False\n",
    "\n",
    "inputs = keras.Input(shape=(224, 224, 3))\n",
    "# We make sure that the base_model is running in inference mode here, by passing `training=False`.\n",
    "x = base_model(inputs, training=False)\n",
    "# Convert features of shape `base_model.output_shape[1:]` to vectors\n",
    "x = keras.layers.GlobalAveragePooling2D()(x)\n",
    "# A Dense classifier with a single unit (binary classification)\n",
    "x = keras.layers.Dense(128, activation='relu')(x)\n",
    "x = keras.layers.Dense(64, activation='relu')(x)\n",
    "x = keras.layers.Dense(32, activation='relu')(x)\n",
    "outputs = keras.layers.Dense(1, activation='sigmoid')(x)\n",
    "model = keras.Model(inputs, outputs)\n",
    "model.summary()"
   ]
  },
  {
   "cell_type": "code",
   "execution_count": 10,
   "id": "b4b8397a",
   "metadata": {
    "execution": {
     "iopub.execute_input": "2022-12-09T11:52:18.681847Z",
     "iopub.status.busy": "2022-12-09T11:52:18.681559Z",
     "iopub.status.idle": "2022-12-09T11:52:18.687389Z",
     "shell.execute_reply": "2022-12-09T11:52:18.686337Z"
    },
    "papermill": {
     "duration": 0.019039,
     "end_time": "2022-12-09T11:52:18.689658",
     "exception": false,
     "start_time": "2022-12-09T11:52:18.670619",
     "status": "completed"
    },
    "tags": []
   },
   "outputs": [],
   "source": [
    "# Choose optimizer - SGD - RMSprop - Adam\n",
    "if optimizer == \"SGD\": \n",
    "    fit_optimizer = tf.keras.optimizers.SGD(learning_rate=learning_rate, momentum=0.9, decay=learning_rate/epochs)\n",
    "elif optimizer == \"RMSprop\":\n",
    "    fit_optimizer = tf.keras.optimizers.RMSprop(learning_rate=learning_rate, decay=learning_rate/epochs)\n",
    "else: \n",
    "    fit_optimizer = tf.keras.optimizers.Adam(learning_rate=learning_rate, epsilon=1e-7, amsgrad=True)"
   ]
  },
  {
   "cell_type": "markdown",
   "id": "ef847691",
   "metadata": {
    "papermill": {
     "duration": 0.009627,
     "end_time": "2022-12-09T11:52:18.708885",
     "exception": false,
     "start_time": "2022-12-09T11:52:18.699258",
     "status": "completed"
    },
    "tags": []
   },
   "source": [
    "# **Model training**"
   ]
  },
  {
   "cell_type": "code",
   "execution_count": 11,
   "id": "92fa6853",
   "metadata": {
    "execution": {
     "iopub.execute_input": "2022-12-09T11:52:18.730527Z",
     "iopub.status.busy": "2022-12-09T11:52:18.729846Z",
     "iopub.status.idle": "2022-12-09T11:52:18.737355Z",
     "shell.execute_reply": "2022-12-09T11:52:18.736337Z"
    },
    "papermill": {
     "duration": 0.020735,
     "end_time": "2022-12-09T11:52:18.739341",
     "exception": false,
     "start_time": "2022-12-09T11:52:18.718606",
     "status": "completed"
    },
    "tags": []
   },
   "outputs": [
    {
     "data": {
      "text/plain": [
       "'model.save_weights(\"model.h5\")\\nprint(\"Saved model to disk\")'"
      ]
     },
     "execution_count": 11,
     "metadata": {},
     "output_type": "execute_result"
    }
   ],
   "source": [
    "'''# Configure the model for training.\n",
    "model.compile(optimizer=fit_optimizer, loss=loss_function, metrics=['accuracy'])\n",
    "\n",
    "# Safe best model\n",
    "callbacks = [keras.callbacks.ModelCheckpoint(\"lesion_segmentaion.h5\", save_best_only=True)]\n",
    "\n",
    "# Train the model, doing validation at the end of each epoch.\n",
    "model_history = model.fit(train_generator, epochs=epochs, validation_data=val_generator, callbacks=callbacks)'''\n",
    "\n",
    "# Serialize and save model to json\n",
    "'''model_json = model.to_json()\n",
    "with open(\"model.json\", \"w\") as json_file:\n",
    "    json_file.write(model_json)'''\n",
    "    \n",
    "# Serialize and save weights to HDF5\n",
    "'''model.save_weights(\"model.h5\")\n",
    "print(\"Saved model to disk\")'''"
   ]
  },
  {
   "cell_type": "code",
   "execution_count": 12,
   "id": "1f44f323",
   "metadata": {
    "execution": {
     "iopub.execute_input": "2022-12-09T11:52:18.760357Z",
     "iopub.status.busy": "2022-12-09T11:52:18.759726Z",
     "iopub.status.idle": "2022-12-09T11:52:18.766406Z",
     "shell.execute_reply": "2022-12-09T11:52:18.765443Z"
    },
    "papermill": {
     "duration": 0.019261,
     "end_time": "2022-12-09T11:52:18.768371",
     "exception": false,
     "start_time": "2022-12-09T11:52:18.749110",
     "status": "completed"
    },
    "tags": []
   },
   "outputs": [
    {
     "data": {
      "text/plain": [
       "'def create_plots(history_plot):\\n    \"\"\"\\n    This functions creates the plots accuracy and loss evolution in training and validation\\n    :param history_plot: Record of training loss values and metrics values at successive epochs\\n    :return: It saves the accuracy and loss plots\\n    \"\"\"\\n    # Accuracy plot\\n    plt.plot(history_plot.history[\\'accuracy\\'])\\n    plt.plot(history_plot.history[\\'val_accuracy\\'])\\n    plt.title(f\\'Model accuracy\\')\\n    plt.ylabel(\\'accuracy\\')\\n    plt.xlabel(\\'epoch\\')\\n    plt.legend([\\'train\\', \\'val\\'], loc=\\'upper left\\')\\n    plt.savefig(f\\'MAMe_accuracy.pdf\\')\\n    plt.show()\\n    plt.close()\\n\\n    # Loss plot\\n    plt.plot(history_plot.history[\\'loss\\'])\\n    plt.plot(history_plot.history[\\'val_loss\\'])\\n    plt.title(f\\'Model loss\\')\\n    plt.ylabel(\\'loss\\')\\n    plt.xlabel(\\'epoch\\')\\n    plt.legend([\\'train\\', \\'val\\'], loc=\\'upper left\\')\\n    plt.savefig(f\\'MAMe_loss.pdf\\')\\n    plt.show()\\n\\ncreate_plots(model_history)'"
      ]
     },
     "execution_count": 12,
     "metadata": {},
     "output_type": "execute_result"
    }
   ],
   "source": [
    "'''def create_plots(history_plot):\n",
    "    \"\"\"\n",
    "    This functions creates the plots accuracy and loss evolution in training and validation\n",
    "    :param history_plot: Record of training loss values and metrics values at successive epochs\n",
    "    :return: It saves the accuracy and loss plots\n",
    "    \"\"\"\n",
    "    # Accuracy plot\n",
    "    plt.plot(history_plot.history['accuracy'])\n",
    "    plt.plot(history_plot.history['val_accuracy'])\n",
    "    plt.title(f'Model accuracy')\n",
    "    plt.ylabel('accuracy')\n",
    "    plt.xlabel('epoch')\n",
    "    plt.legend(['train', 'val'], loc='upper left')\n",
    "    plt.savefig(f'MAMe_accuracy.pdf')\n",
    "    plt.show()\n",
    "    plt.close()\n",
    "\n",
    "    # Loss plot\n",
    "    plt.plot(history_plot.history['loss'])\n",
    "    plt.plot(history_plot.history['val_loss'])\n",
    "    plt.title(f'Model loss')\n",
    "    plt.ylabel('loss')\n",
    "    plt.xlabel('epoch')\n",
    "    plt.legend(['train', 'val'], loc='upper left')\n",
    "    plt.savefig(f'MAMe_loss.pdf')\n",
    "    plt.show()\n",
    "\n",
    "create_plots(model_history)'''"
   ]
  },
  {
   "cell_type": "code",
   "execution_count": 13,
   "id": "c044b3d0",
   "metadata": {
    "execution": {
     "iopub.execute_input": "2022-12-09T11:52:18.789452Z",
     "iopub.status.busy": "2022-12-09T11:52:18.788768Z",
     "iopub.status.idle": "2022-12-09T11:52:18.795494Z",
     "shell.execute_reply": "2022-12-09T11:52:18.794549Z"
    },
    "papermill": {
     "duration": 0.019342,
     "end_time": "2022-12-09T11:52:18.797441",
     "exception": false,
     "start_time": "2022-12-09T11:52:18.778099",
     "status": "completed"
    },
    "tags": []
   },
   "outputs": [
    {
     "data": {
      "text/plain": [
       "'# Evaluate the model\\ntest_generator.reset()\\nscore = model.evaluate(test_generator, verbose=0)\\n\\nprint(f\"Loss: {str(score[0])} \\nAccuracy on test: {str(score[1])}\\n\")\\n\\n# Confusion Matrix (validation subset)\\ntest_generator.reset()\\npred = model.predict(test_generator, verbose=0)\\n\\n# Assign most probable label\\npredicted_class_indices = np.round(pred)\\n\\n# Get class labels\\nlabels = (test_generator.class_indices)\\ntarget_names = labels.keys()\\n\\n# Plot statistics\\nclassification_report(test_generator.classes, predicted_class_indices, target_names=target_names)\\n\\n# Plot confusion matrix\\ncf_matrix = confusion_matrix(np.array(test_generator.classes), predicted_class_indices)\\nfig, ax = plt.subplots(figsize=(15, 15))\\nheatmap = sns.heatmap(cf_matrix, annot=False, cmap=\\'Blues\\', cbar=True, square=False,\\n                      xticklabels=target_names, yticklabels=target_names)\\nfig = heatmap.get_figure()'"
      ]
     },
     "execution_count": 13,
     "metadata": {},
     "output_type": "execute_result"
    }
   ],
   "source": [
    "'''# Evaluate the model\n",
    "test_generator.reset()\n",
    "score = model.evaluate(test_generator, verbose=0)\n",
    "\n",
    "print(f\"Loss: {str(score[0])} \\nAccuracy on test: {str(score[1])}\\n\")\n",
    "\n",
    "# Confusion Matrix (validation subset)\n",
    "test_generator.reset()\n",
    "pred = model.predict(test_generator, verbose=0)\n",
    "\n",
    "# Assign most probable label\n",
    "predicted_class_indices = np.round(pred)\n",
    "\n",
    "# Get class labels\n",
    "labels = (test_generator.class_indices)\n",
    "target_names = labels.keys()\n",
    "\n",
    "# Plot statistics\n",
    "classification_report(test_generator.classes, predicted_class_indices, target_names=target_names)\n",
    "\n",
    "# Plot confusion matrix\n",
    "cf_matrix = confusion_matrix(np.array(test_generator.classes), predicted_class_indices)\n",
    "fig, ax = plt.subplots(figsize=(15, 15))\n",
    "heatmap = sns.heatmap(cf_matrix, annot=False, cmap='Blues', cbar=True, square=False,\n",
    "                      xticklabels=target_names, yticklabels=target_names)\n",
    "fig = heatmap.get_figure()'''"
   ]
  },
  {
   "cell_type": "code",
   "execution_count": 14,
   "id": "d8c9a339",
   "metadata": {
    "execution": {
     "iopub.execute_input": "2022-12-09T11:52:18.818778Z",
     "iopub.status.busy": "2022-12-09T11:52:18.818000Z",
     "iopub.status.idle": "2022-12-09T11:52:18.824128Z",
     "shell.execute_reply": "2022-12-09T11:52:18.823133Z"
    },
    "papermill": {
     "duration": 0.018848,
     "end_time": "2022-12-09T11:52:18.826147",
     "exception": false,
     "start_time": "2022-12-09T11:52:18.807299",
     "status": "completed"
    },
    "tags": []
   },
   "outputs": [
    {
     "data": {
      "text/plain": [
       "'roc_auc_score(target_names, predicted_class_indices)'"
      ]
     },
     "execution_count": 14,
     "metadata": {},
     "output_type": "execute_result"
    }
   ],
   "source": [
    "'''roc_auc_score(target_names, predicted_class_indices)'''"
   ]
  },
  {
   "cell_type": "code",
   "execution_count": 15,
   "id": "433d503a",
   "metadata": {
    "execution": {
     "iopub.execute_input": "2022-12-09T11:52:18.847064Z",
     "iopub.status.busy": "2022-12-09T11:52:18.846806Z",
     "iopub.status.idle": "2022-12-09T11:52:18.851984Z",
     "shell.execute_reply": "2022-12-09T11:52:18.851039Z"
    },
    "papermill": {
     "duration": 0.018028,
     "end_time": "2022-12-09T11:52:18.854031",
     "exception": false,
     "start_time": "2022-12-09T11:52:18.836003",
     "status": "completed"
    },
    "tags": []
   },
   "outputs": [
    {
     "data": {
      "text/plain": [
       "'predicted_class_indices'"
      ]
     },
     "execution_count": 15,
     "metadata": {},
     "output_type": "execute_result"
    }
   ],
   "source": [
    "# PROBLEM: IT ALWAYS PREDITCS THE SAME\n",
    "'''predicted_class_indices'''"
   ]
  },
  {
   "cell_type": "code",
   "execution_count": 16,
   "id": "398fa194",
   "metadata": {
    "execution": {
     "iopub.execute_input": "2022-12-09T11:52:18.876309Z",
     "iopub.status.busy": "2022-12-09T11:52:18.875431Z",
     "iopub.status.idle": "2022-12-09T11:52:18.881682Z",
     "shell.execute_reply": "2022-12-09T11:52:18.880714Z"
    },
    "papermill": {
     "duration": 0.019417,
     "end_time": "2022-12-09T11:52:18.883609",
     "exception": false,
     "start_time": "2022-12-09T11:52:18.864192",
     "status": "completed"
    },
    "tags": []
   },
   "outputs": [
    {
     "data": {
      "text/plain": [
       "'pred'"
      ]
     },
     "execution_count": 16,
     "metadata": {},
     "output_type": "execute_result"
    }
   ],
   "source": [
    "'''pred'''"
   ]
  },
  {
   "cell_type": "code",
   "execution_count": 17,
   "id": "61ab378f",
   "metadata": {
    "execution": {
     "iopub.execute_input": "2022-12-09T11:52:18.905336Z",
     "iopub.status.busy": "2022-12-09T11:52:18.904586Z",
     "iopub.status.idle": "2022-12-09T11:52:18.910721Z",
     "shell.execute_reply": "2022-12-09T11:52:18.909729Z"
    },
    "papermill": {
     "duration": 0.019005,
     "end_time": "2022-12-09T11:52:18.912678",
     "exception": false,
     "start_time": "2022-12-09T11:52:18.893673",
     "status": "completed"
    },
    "tags": []
   },
   "outputs": [
    {
     "data": {
      "text/plain": [
       "'np.round(pred)'"
      ]
     },
     "execution_count": 17,
     "metadata": {},
     "output_type": "execute_result"
    }
   ],
   "source": [
    "'''np.round(pred)'''"
   ]
  },
  {
   "cell_type": "markdown",
   "id": "e38fef26",
   "metadata": {
    "papermill": {
     "duration": 0.010032,
     "end_time": "2022-12-09T11:52:18.932887",
     "exception": false,
     "start_time": "2022-12-09T11:52:18.922855",
     "status": "completed"
    },
    "tags": []
   },
   "source": [
    "¿https://stackoverflow.com/questions/41488279/neural-network-always-predicts-the-same-class?"
   ]
  }
 ],
 "metadata": {
  "kernelspec": {
   "display_name": "Python 3",
   "language": "python",
   "name": "python3"
  },
  "language_info": {
   "codemirror_mode": {
    "name": "ipython",
    "version": 3
   },
   "file_extension": ".py",
   "mimetype": "text/x-python",
   "name": "python",
   "nbconvert_exporter": "python",
   "pygments_lexer": "ipython3",
   "version": "3.7.12"
  },
  "papermill": {
   "default_parameters": {},
   "duration": 97.4861,
   "end_time": "2022-12-09T11:52:22.091572",
   "environment_variables": {},
   "exception": null,
   "input_path": "__notebook__.ipynb",
   "output_path": "__notebook__.ipynb",
   "parameters": {},
   "start_time": "2022-12-09T11:50:44.605472",
   "version": "2.3.4"
  }
 },
 "nbformat": 4,
 "nbformat_minor": 5
}
