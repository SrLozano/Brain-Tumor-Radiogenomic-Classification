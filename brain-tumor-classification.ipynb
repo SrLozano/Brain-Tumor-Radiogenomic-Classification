{
 "cells": [
  {
   "cell_type": "code",
   "execution_count": 1,
   "id": "26e4ae3a",
   "metadata": {
    "execution": {
     "iopub.execute_input": "2022-12-03T17:20:40.436212Z",
     "iopub.status.busy": "2022-12-03T17:20:40.435604Z",
     "iopub.status.idle": "2022-12-03T17:20:40.448192Z",
     "shell.execute_reply": "2022-12-03T17:20:40.447132Z"
    },
    "papermill": {
     "duration": 0.02059,
     "end_time": "2022-12-03T17:20:40.450742",
     "exception": false,
     "start_time": "2022-12-03T17:20:40.430152",
     "status": "completed"
    },
    "tags": []
   },
   "outputs": [],
   "source": [
    "import os\n",
    "import re # Regular expressions"
   ]
  },
  {
   "cell_type": "code",
   "execution_count": 2,
   "id": "00ea0262",
   "metadata": {
    "_cell_guid": "b1076dfc-b9ad-4769-8c92-a6c4dae69d19",
    "_uuid": "8f2839f25d086af736a60e9eeb907d3b93b6e0e5",
    "execution": {
     "iopub.execute_input": "2022-12-03T17:20:40.456795Z",
     "iopub.status.busy": "2022-12-03T17:20:40.456411Z",
     "iopub.status.idle": "2022-12-03T17:20:40.467721Z",
     "shell.execute_reply": "2022-12-03T17:20:40.466662Z"
    },
    "papermill": {
     "duration": 0.016668,
     "end_time": "2022-12-03T17:20:40.469847",
     "exception": false,
     "start_time": "2022-12-03T17:20:40.453179",
     "status": "completed"
    },
    "tags": []
   },
   "outputs": [],
   "source": [
    "# Variable declaration\n",
    "image_mode = \"FLAIR\" # FLAIR - T1w - T1wCE - T2w\n",
    "patient_mode = \"central\" # central - first TODO: Explain \n",
    "input_dir = \"../input/rsna-miccai-png/train\" \n",
    "target_dir = \"../input/rsna-miccai-png/test\""
   ]
  },
  {
   "cell_type": "code",
   "execution_count": 3,
   "id": "2e1d6110",
   "metadata": {
    "execution": {
     "iopub.execute_input": "2022-12-03T17:20:40.475249Z",
     "iopub.status.busy": "2022-12-03T17:20:40.474893Z",
     "iopub.status.idle": "2022-12-03T17:20:47.952431Z",
     "shell.execute_reply": "2022-12-03T17:20:47.951450Z"
    },
    "papermill": {
     "duration": 7.483546,
     "end_time": "2022-12-03T17:20:47.955470",
     "exception": false,
     "start_time": "2022-12-03T17:20:40.471924",
     "status": "completed"
    },
    "tags": []
   },
   "outputs": [],
   "source": [
    "# Get path to the training images\n",
    "input_img_paths_patients = sorted([\n",
    "    os.path.join(input_dir, fname + \"/\" + image_mode) \n",
    "    for fname in os.listdir(input_dir)\n",
    "    if os.path.exists(os.path.join(input_dir, fname + \"/\" + image_mode))])\n",
    "\n",
    "input_img_paths = []\n",
    "for patient in input_img_paths_patients:\n",
    "    # TODO: Explain\n",
    "    # TODO: Choosing first makes no sense. Because of the way images are taken. Center or bigger\n",
    "    images_id = x = [int(re.findall(r'\\d+', x)[0]) for x in os.listdir(patient)] # Get all image ids\n",
    "    if patient_mode == \"central\":\n",
    "        index_central_image = min(images_id) + round((max(images_id) - min(images_id))/2) # Get middle image\n",
    "        path = os.path.join(patient, \"Image-\" + str(index_central_image) + \".png\")\n",
    "        if os.path.exists(path): input_img_paths.append(path)\n",
    "    if patient_mode == \"first\":\n",
    "        index_central_image = min(images_id) # Get first image\n",
    "        path = os.path.join(patient, \"Image-\" + str(index_central_image) + \".png\")\n",
    "        if os.path.exists(path): input_img_paths.append(path)"
   ]
  },
  {
   "cell_type": "code",
   "execution_count": null,
   "id": "d34295de",
   "metadata": {
    "papermill": {
     "duration": 0.001703,
     "end_time": "2022-12-03T17:20:47.959428",
     "exception": false,
     "start_time": "2022-12-03T17:20:47.957725",
     "status": "completed"
    },
    "tags": []
   },
   "outputs": [],
   "source": []
  }
 ],
 "metadata": {
  "kernelspec": {
   "display_name": "Python 3",
   "language": "python",
   "name": "python3"
  },
  "language_info": {
   "codemirror_mode": {
    "name": "ipython",
    "version": 3
   },
   "file_extension": ".py",
   "mimetype": "text/x-python",
   "name": "python",
   "nbconvert_exporter": "python",
   "pygments_lexer": "ipython3",
   "version": "3.7.12"
  },
  "papermill": {
   "default_parameters": {},
   "duration": 16.769909,
   "end_time": "2022-12-03T17:20:48.583091",
   "environment_variables": {},
   "exception": null,
   "input_path": "__notebook__.ipynb",
   "output_path": "__notebook__.ipynb",
   "parameters": {},
   "start_time": "2022-12-03T17:20:31.813182",
   "version": "2.3.4"
  }
 },
 "nbformat": 4,
 "nbformat_minor": 5
}
