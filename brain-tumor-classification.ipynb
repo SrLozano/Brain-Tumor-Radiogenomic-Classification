{
 "cells": [
  {
   "cell_type": "code",
   "execution_count": 1,
   "id": "781b2901",
   "metadata": {
    "execution": {
     "iopub.execute_input": "2022-12-03T18:46:27.198847Z",
     "iopub.status.busy": "2022-12-03T18:46:27.198378Z",
     "iopub.status.idle": "2022-12-03T18:46:28.128930Z",
     "shell.execute_reply": "2022-12-03T18:46:28.128081Z"
    },
    "papermill": {
     "duration": 0.938586,
     "end_time": "2022-12-03T18:46:28.131940",
     "exception": false,
     "start_time": "2022-12-03T18:46:27.193354",
     "status": "completed"
    },
    "tags": []
   },
   "outputs": [],
   "source": [
    "from sklearn.model_selection import train_test_split\n",
    "import pandas as pd\n",
    "import os\n",
    "import re # Regular expressions"
   ]
  },
  {
   "cell_type": "code",
   "execution_count": 2,
   "id": "3eb6c159",
   "metadata": {
    "_cell_guid": "b1076dfc-b9ad-4769-8c92-a6c4dae69d19",
    "_uuid": "8f2839f25d086af736a60e9eeb907d3b93b6e0e5",
    "execution": {
     "iopub.execute_input": "2022-12-03T18:46:28.139718Z",
     "iopub.status.busy": "2022-12-03T18:46:28.139119Z",
     "iopub.status.idle": "2022-12-03T18:46:28.143786Z",
     "shell.execute_reply": "2022-12-03T18:46:28.142918Z"
    },
    "papermill": {
     "duration": 0.010474,
     "end_time": "2022-12-03T18:46:28.145765",
     "exception": false,
     "start_time": "2022-12-03T18:46:28.135291",
     "status": "completed"
    },
    "tags": []
   },
   "outputs": [],
   "source": [
    "# Variable declaration\n",
    "image_mode = \"FLAIR\" # FLAIR - T1w - T1wCE - T2w\n",
    "patient_mode = \"central\" # central - first TODO: Explain \n",
    "input_dir = \"../input/rsna-miccai-png/train\" \n",
    "target_dir = \"../input/rsna-miccai-png/test\""
   ]
  },
  {
   "cell_type": "code",
   "execution_count": 3,
   "id": "21aaf8d5",
   "metadata": {
    "execution": {
     "iopub.execute_input": "2022-12-03T18:46:28.151857Z",
     "iopub.status.busy": "2022-12-03T18:46:28.151183Z",
     "iopub.status.idle": "2022-12-03T18:46:34.631731Z",
     "shell.execute_reply": "2022-12-03T18:46:34.630820Z"
    },
    "papermill": {
     "duration": 6.4864,
     "end_time": "2022-12-03T18:46:34.634493",
     "exception": false,
     "start_time": "2022-12-03T18:46:28.148093",
     "status": "completed"
    },
    "tags": []
   },
   "outputs": [],
   "source": [
    "# Get path to the training images\n",
    "input_img_paths_patients = sorted([\n",
    "    os.path.join(input_dir, fname + \"/\" + image_mode) \n",
    "    for fname in os.listdir(input_dir)\n",
    "    if os.path.exists(os.path.join(input_dir, fname + \"/\" + image_mode))])\n",
    "\n",
    "# Read images\n",
    "input_img_paths = []\n",
    "for patient in input_img_paths_patients:\n",
    "    # TODO: Explain\n",
    "    # TODO: Choosing first makes no sense. Because of the way images are taken. Center or bigger\n",
    "    images_id = x = [int(re.findall(r'\\d+', x)[0]) for x in os.listdir(patient)] # Get all image ids\n",
    "    if patient_mode == \"central\":\n",
    "        index_central_image = min(images_id) + round((max(images_id) - min(images_id))/2) # Get middle image\n",
    "        path = os.path.join(patient, \"Image-\" + str(index_central_image) + \".png\")\n",
    "        if os.path.exists(path): input_img_paths.append(path)\n",
    "    if patient_mode == \"first\":\n",
    "        index_central_image = min(images_id) # Get first image\n",
    "        path = os.path.join(patient, \"Image-\" + str(index_central_image) + \".png\")\n",
    "        if os.path.exists(path): input_img_paths.append(path)\n",
    "            \n",
    "# Read csv labels\n",
    "df = pd.read_csv('../input/rsna-miccai-brain-tumor-radiogenomic-classification/train_labels.csv')\n",
    "\n",
    "# Obtain pure labels\n",
    "labels = []\n",
    "for img_path in input_img_paths:\n",
    "    labels.append(df.loc[df['BraTS21ID'] == int(re.findall(r'\\d+', img_path)[0])]['MGMT_value'].iloc[0])"
   ]
  },
  {
   "cell_type": "code",
   "execution_count": 4,
   "id": "0f333556",
   "metadata": {
    "execution": {
     "iopub.execute_input": "2022-12-03T18:46:34.640843Z",
     "iopub.status.busy": "2022-12-03T18:46:34.640509Z",
     "iopub.status.idle": "2022-12-03T18:46:34.648849Z",
     "shell.execute_reply": "2022-12-03T18:46:34.647870Z"
    },
    "papermill": {
     "duration": 0.014389,
     "end_time": "2022-12-03T18:46:34.651527",
     "exception": false,
     "start_time": "2022-12-03T18:46:34.637138",
     "status": "completed"
    },
    "tags": []
   },
   "outputs": [
    {
     "name": "stdout",
     "output_type": "stream",
     "text": [
      "Training samples: 464\n",
      "Validation samples: 59\n",
      "Test samples: 59\n"
     ]
    }
   ],
   "source": [
    "X_train, X_test, y_train, y_test = train_test_split(input_img_paths, labels, test_size=0.1, random_state=42)\n",
    "X_train, X_val, y_train, y_val = train_test_split(X_train, y_train, test_size=0.111, random_state=42) # 0.111*0.9 = 0.1\n",
    "\n",
    "print(f\"Training samples: {str(len(X_train))}\\nValidation samples: {str(len(X_val))}\\nTest samples: {str(len(X_test))}\")"
   ]
  },
  {
   "cell_type": "code",
   "execution_count": null,
   "id": "64e4eb72",
   "metadata": {
    "execution": {
     "iopub.execute_input": "2022-12-03T18:24:26.274520Z",
     "iopub.status.busy": "2022-12-03T18:24:26.274059Z",
     "iopub.status.idle": "2022-12-03T18:24:26.283066Z",
     "shell.execute_reply": "2022-12-03T18:24:26.281516Z",
     "shell.execute_reply.started": "2022-12-03T18:24:26.274481Z"
    },
    "papermill": {
     "duration": 0.002225,
     "end_time": "2022-12-03T18:46:34.656193",
     "exception": false,
     "start_time": "2022-12-03T18:46:34.653968",
     "status": "completed"
    },
    "tags": []
   },
   "outputs": [],
   "source": []
  },
  {
   "cell_type": "code",
   "execution_count": null,
   "id": "ebb2e674",
   "metadata": {
    "execution": {
     "iopub.execute_input": "2022-12-03T18:24:27.730626Z",
     "iopub.status.busy": "2022-12-03T18:24:27.729907Z",
     "iopub.status.idle": "2022-12-03T18:24:27.739164Z",
     "shell.execute_reply": "2022-12-03T18:24:27.737065Z",
     "shell.execute_reply.started": "2022-12-03T18:24:27.730557Z"
    },
    "papermill": {
     "duration": 0.002058,
     "end_time": "2022-12-03T18:46:34.660502",
     "exception": false,
     "start_time": "2022-12-03T18:46:34.658444",
     "status": "completed"
    },
    "tags": []
   },
   "outputs": [],
   "source": []
  }
 ],
 "metadata": {
  "kernelspec": {
   "display_name": "Python 3",
   "language": "python",
   "name": "python3"
  },
  "language_info": {
   "codemirror_mode": {
    "name": "ipython",
    "version": 3
   },
   "file_extension": ".py",
   "mimetype": "text/x-python",
   "name": "python",
   "nbconvert_exporter": "python",
   "pygments_lexer": "ipython3",
   "version": "3.7.12"
  },
  "papermill": {
   "default_parameters": {},
   "duration": 15.959833,
   "end_time": "2022-12-03T18:46:35.283070",
   "environment_variables": {},
   "exception": null,
   "input_path": "__notebook__.ipynb",
   "output_path": "__notebook__.ipynb",
   "parameters": {},
   "start_time": "2022-12-03T18:46:19.323237",
   "version": "2.3.4"
  }
 },
 "nbformat": 4,
 "nbformat_minor": 5
}
