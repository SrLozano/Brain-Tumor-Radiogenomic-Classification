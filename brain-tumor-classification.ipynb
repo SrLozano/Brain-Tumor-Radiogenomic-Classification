{
 "cells": [
  {
   "cell_type": "markdown",
   "id": "8ade3bc0",
   "metadata": {
    "papermill": {
     "duration": 0.005032,
     "end_time": "2022-12-08T10:57:57.103304",
     "exception": false,
     "start_time": "2022-12-08T10:57:57.098272",
     "status": "completed"
    },
    "tags": []
   },
   "source": [
    "# **RSNA-MICCAI Brain Tumor Radiogenomic Classification**\n",
    "**Predict the status of a genetic biomarker important for brain cancer treatment**"
   ]
  },
  {
   "cell_type": "markdown",
   "id": "eda099fd",
   "metadata": {
    "papermill": {
     "duration": 0.003521,
     "end_time": "2022-12-08T10:57:57.110915",
     "exception": false,
     "start_time": "2022-12-08T10:57:57.107394",
     "status": "completed"
    },
    "tags": []
   },
   "source": [
    "# **Imports and variable declarations**\n",
    "\n",
    "This section contains the libraries used in the notebook as well as the variables relating to the parameters of the generated network."
   ]
  },
  {
   "cell_type": "code",
   "execution_count": 1,
   "id": "d7a184b4",
   "metadata": {
    "execution": {
     "iopub.execute_input": "2022-12-08T10:57:57.120969Z",
     "iopub.status.busy": "2022-12-08T10:57:57.120005Z",
     "iopub.status.idle": "2022-12-08T10:58:03.502773Z",
     "shell.execute_reply": "2022-12-08T10:58:03.501789Z"
    },
    "papermill": {
     "duration": 6.390917,
     "end_time": "2022-12-08T10:58:03.505524",
     "exception": false,
     "start_time": "2022-12-08T10:57:57.114607",
     "status": "completed"
    },
    "tags": []
   },
   "outputs": [],
   "source": [
    "import os # os functionalities\n",
    "import re # regular expressions\n",
    "import numpy as np # linear algebra\n",
    "import pandas as pd # data processing\n",
    "from skimage import io # image manipulation\n",
    "from matplotlib import pyplot as plt # image visualization\n",
    "\n",
    "import seaborn as sns\n",
    "\n",
    "# Tensorflow & Keras & SkLearn\n",
    "import keras\n",
    "import tensorflow as tf\n",
    "#warnings.filterwarnings('ignore')\n",
    "from keras.applications.vgg16 import VGG16\n",
    "from sklearn.model_selection import train_test_split # divide dataset\n",
    "from sklearn.metrics import classification_report, confusion_matrix # confusion matrix"
   ]
  },
  {
   "cell_type": "code",
   "execution_count": 2,
   "id": "6dd55215",
   "metadata": {
    "_cell_guid": "b1076dfc-b9ad-4769-8c92-a6c4dae69d19",
    "_uuid": "8f2839f25d086af736a60e9eeb907d3b93b6e0e5",
    "execution": {
     "iopub.execute_input": "2022-12-08T10:58:03.514745Z",
     "iopub.status.busy": "2022-12-08T10:58:03.514223Z",
     "iopub.status.idle": "2022-12-08T10:58:03.519549Z",
     "shell.execute_reply": "2022-12-08T10:58:03.518598Z"
    },
    "papermill": {
     "duration": 0.011975,
     "end_time": "2022-12-08T10:58:03.521474",
     "exception": false,
     "start_time": "2022-12-08T10:58:03.509499",
     "status": "completed"
    },
    "tags": []
   },
   "outputs": [],
   "source": [
    "# Variable declaration\n",
    "image_mode = \"FLAIR\" # FLAIR - T1w - T1wCE - T2w\n",
    "patient_mode = \"central\" # central - first TODO: Explain \n",
    "input_dir = \"../input/rsna-miccai-png/train\" \n",
    "target_dir = \"../input/rsna-miccai-png/test\"\n",
    "\n",
    "# Model variables\n",
    "epochs = 5\n",
    "batch_size = 8\n",
    "learning_rate = 0.001\n",
    "optimizer = \"RMSprop\"\n",
    "loss_function = \"binary_crossentropy\"\n"
   ]
  },
  {
   "cell_type": "markdown",
   "id": "51d0cfbe",
   "metadata": {
    "papermill": {
     "duration": 0.0035,
     "end_time": "2022-12-08T10:58:03.528904",
     "exception": false,
     "start_time": "2022-12-08T10:58:03.525404",
     "status": "completed"
    },
    "tags": []
   },
   "source": [
    "# **Data loading**"
   ]
  },
  {
   "cell_type": "code",
   "execution_count": 3,
   "id": "b8aaf3e3",
   "metadata": {
    "execution": {
     "iopub.execute_input": "2022-12-08T10:58:03.537874Z",
     "iopub.status.busy": "2022-12-08T10:58:03.537002Z",
     "iopub.status.idle": "2022-12-08T10:58:21.297340Z",
     "shell.execute_reply": "2022-12-08T10:58:21.296318Z"
    },
    "papermill": {
     "duration": 17.767448,
     "end_time": "2022-12-08T10:58:21.299972",
     "exception": false,
     "start_time": "2022-12-08T10:58:03.532524",
     "status": "completed"
    },
    "tags": []
   },
   "outputs": [],
   "source": [
    "# Get path to the training images\n",
    "input_img_paths_patients = sorted([\n",
    "    os.path.join(input_dir, fname + \"/\" + image_mode) \n",
    "    for fname in os.listdir(input_dir)\n",
    "    if os.path.exists(os.path.join(input_dir, fname + \"/\" + image_mode))])\n",
    "\n",
    "# Read images\n",
    "input_img_paths = []\n",
    "for patient in input_img_paths_patients:\n",
    "    # TODO: Explain\n",
    "    # TODO: Choosing first makes no sense. Because of the way images are taken. Center or bigger\n",
    "    images_id = x = [int(re.findall(r'\\d+', x)[0]) for x in os.listdir(patient)] # Get all image ids\n",
    "    if patient_mode == \"central\":\n",
    "        index_central_image = min(images_id) + round((max(images_id) - min(images_id))/2) # Get middle image\n",
    "        path = os.path.join(patient, \"Image-\" + str(index_central_image) + \".png\")\n",
    "        if os.path.exists(path): input_img_paths.append(path)\n",
    "    if patient_mode == \"first\":\n",
    "        index_central_image = min(images_id) # Get first image\n",
    "        path = os.path.join(patient, \"Image-\" + str(index_central_image) + \".png\")\n",
    "        if os.path.exists(path): input_img_paths.append(path)\n",
    "            \n",
    "# Read csv labels\n",
    "df = pd.read_csv('../input/rsna-miccai-brain-tumor-radiogenomic-classification/train_labels.csv')\n",
    "\n",
    "# Obtain pure labels\n",
    "labels = []\n",
    "for img_path in input_img_paths:\n",
    "    labels.append(df.loc[df['BraTS21ID'] == int(re.findall(r'\\d+', img_path)[0])]['MGMT_value'].iloc[0])"
   ]
  },
  {
   "cell_type": "code",
   "execution_count": 4,
   "id": "c1f85f4d",
   "metadata": {
    "execution": {
     "iopub.execute_input": "2022-12-08T10:58:21.309557Z",
     "iopub.status.busy": "2022-12-08T10:58:21.309200Z",
     "iopub.status.idle": "2022-12-08T10:58:21.321204Z",
     "shell.execute_reply": "2022-12-08T10:58:21.320154Z"
    },
    "papermill": {
     "duration": 0.020186,
     "end_time": "2022-12-08T10:58:21.324484",
     "exception": false,
     "start_time": "2022-12-08T10:58:21.304298",
     "status": "completed"
    },
    "tags": []
   },
   "outputs": [
    {
     "name": "stdout",
     "output_type": "stream",
     "text": [
      "Training samples: 464\n",
      "Validation samples: 59\n",
      "Test samples: 59\n"
     ]
    }
   ],
   "source": [
    "# Split data into train, validation and test\n",
    "X_train, X_test, y_train, y_test = train_test_split(input_img_paths, labels, test_size=0.1, random_state=42)\n",
    "X_train, X_val, y_train, y_val = train_test_split(X_train, y_train, test_size=0.111, random_state=42) # 0.111*0.9 = 0.1\n",
    "\n",
    "# Check amounts of data in each split\n",
    "print(f\"Training samples: {str(len(X_train))}\\nValidation samples: {str(len(X_val))}\\nTest samples: {str(len(X_test))}\")\n",
    "\n",
    "# Create dataframes for keras flow_from_dataframe\n",
    "data = {'id': X_train, 'label': [str(x) for x in y_train]}\n",
    "train_df = pd.DataFrame(data)\n",
    "\n",
    "data = {'id': X_val, 'label': [str(x) for x in y_val]}\n",
    "val_df = pd.DataFrame(data)\n",
    "\n",
    "data = {'id': X_test, 'label': [str(x) for x in y_test]}\n",
    "test_df = pd.DataFrame(data)"
   ]
  },
  {
   "cell_type": "code",
   "execution_count": 5,
   "id": "376b6c69",
   "metadata": {
    "execution": {
     "iopub.execute_input": "2022-12-08T10:58:21.334028Z",
     "iopub.status.busy": "2022-12-08T10:58:21.333733Z",
     "iopub.status.idle": "2022-12-08T10:58:21.343937Z",
     "shell.execute_reply": "2022-12-08T10:58:21.343086Z"
    },
    "papermill": {
     "duration": 0.017444,
     "end_time": "2022-12-08T10:58:21.345914",
     "exception": false,
     "start_time": "2022-12-08T10:58:21.328470",
     "status": "completed"
    },
    "tags": []
   },
   "outputs": [],
   "source": [
    "def load_dataset(train_df, val_df, test_df, data_augmentation=False):\n",
    "    \"\"\"\n",
    "    This function loads the dataset from dataset folder\n",
    "    :parameter train_df: Dataframe with paths to training images and labels\n",
    "    :parameter val_df: Dataframe with paths to validation images and labels\n",
    "    :parameter test_df: Dataframe with paths to test images and labels\n",
    "    :parameter data_augmentation: Boolean indicating whether to include or not data augmentation\n",
    "    :return train_generator: Training generator\n",
    "    :return val_generator: Validation generator\n",
    "    :return test_generator: Testing generator\n",
    "    \"\"\"\n",
    "\n",
    "    # Create a data generator\n",
    "    if data_augmentation:\n",
    "        datagen_train = tf.keras.preprocessing.image.ImageDataGenerator(rescale=1.0/255.0,\n",
    "                                                                        rotation_range=20,\n",
    "                                                                        width_shift_range=0.1,\n",
    "                                                                        height_shift_range=0.1,\n",
    "                                                                        zoom_range=0.2,\n",
    "                                                                        horizontal_flip=True)\n",
    "    else:\n",
    "        datagen_train = tf.keras.preprocessing.image.ImageDataGenerator(rescale=1.0/255.0)\n",
    "        \n",
    "    datagen_val_test = tf.keras.preprocessing.image.ImageDataGenerator(rescale=1.0/255.0)\n",
    "\n",
    "    # Load and iterate training dataset\n",
    "    train_generator=datagen_train.flow_from_dataframe(dataframe=train_df, x_col=\"id\", y_col=\"label\", \n",
    "                                                      class_mode=\"binary\", batch_size=batch_size, target_size=(224, 224))\n",
    "    # Load and iterate validation dataset\n",
    "    val_generator=datagen_val_test.flow_from_dataframe(dataframe=val_df, x_col=\"id\", y_col=\"label\", \n",
    "                                                       class_mode=\"binary\", batch_size=batch_size, target_size=(224, 224))\n",
    "    # Load and iterate test dataset\n",
    "    test_generator=datagen_val_test.flow_from_dataframe(dataframe=test_df, x_col=\"id\", y_col=\"label\", \n",
    "                                                        class_mode=\"binary\", batch_size=batch_size, target_size=(224, 224))\n",
    "\n",
    "    return train_generator, val_generator, test_generator"
   ]
  },
  {
   "cell_type": "markdown",
   "id": "8dc57b29",
   "metadata": {
    "papermill": {
     "duration": 0.003935,
     "end_time": "2022-12-08T10:58:21.354536",
     "exception": false,
     "start_time": "2022-12-08T10:58:21.350601",
     "status": "completed"
    },
    "tags": []
   },
   "source": [
    "## **Data visualization**"
   ]
  },
  {
   "cell_type": "code",
   "execution_count": 6,
   "id": "67213d2e",
   "metadata": {
    "execution": {
     "iopub.execute_input": "2022-12-08T10:58:21.364406Z",
     "iopub.status.busy": "2022-12-08T10:58:21.363851Z",
     "iopub.status.idle": "2022-12-08T10:58:21.801562Z",
     "shell.execute_reply": "2022-12-08T10:58:21.800608Z"
    },
    "papermill": {
     "duration": 0.445538,
     "end_time": "2022-12-08T10:58:21.804191",
     "exception": false,
     "start_time": "2022-12-08T10:58:21.358653",
     "status": "completed"
    },
    "tags": []
   },
   "outputs": [
    {
     "data": {
      "text/plain": [
       "Text(0.5, 1.0, 'Tumor presence: 0')"
      ]
     },
     "execution_count": 6,
     "metadata": {},
     "output_type": "execute_result"
    },
    {
     "data": {
      "image/png": "[encoded data removed]",
      "text/plain": [
       "<Figure size 720x720 with 2 Axes>"
      ]
     },
     "metadata": {
      "needs_background": "light"
     },
     "output_type": "display_data"
    }
   ],
   "source": [
    "# Read training images and visualize\n",
    "i = 0\n",
    "while labels[0] == labels[i]: \n",
    "    i+=1\n",
    "\n",
    "# Create figure\n",
    "fig = plt.figure(figsize=(10, 10))\n",
    "\n",
    "# Cetting values to rows and column variables\n",
    "rows = 1\n",
    "columns = 2\n",
    "\n",
    "# Plot images - Visualize an image and it's segmentation\n",
    "fig.add_subplot(rows, columns, 1)\n",
    "plt.imshow(io.imread(input_img_paths[0]), cmap='gray')\n",
    "plt.title(f\"Tumor presence: {labels[0]}\")\n",
    "\n",
    "fig.add_subplot(rows, columns, 2)\n",
    "plt.imshow(io.imread(input_img_paths[i]), cmap='gray')\n",
    "plt.title(f\"Tumor presence: {labels[i]}\")"
   ]
  },
  {
   "cell_type": "code",
   "execution_count": 7,
   "id": "b440c07f",
   "metadata": {
    "execution": {
     "iopub.execute_input": "2022-12-08T10:58:21.816373Z",
     "iopub.status.busy": "2022-12-08T10:58:21.814729Z",
     "iopub.status.idle": "2022-12-08T10:58:22.281565Z",
     "shell.execute_reply": "2022-12-08T10:58:22.280073Z"
    },
    "papermill": {
     "duration": 0.474642,
     "end_time": "2022-12-08T10:58:22.283751",
     "exception": false,
     "start_time": "2022-12-08T10:58:21.809109",
     "status": "completed"
    },
    "tags": []
   },
   "outputs": [
    {
     "name": "stdout",
     "output_type": "stream",
     "text": [
      "Found 464 validated image filenames belonging to 2 classes.\n",
      "Found 59 validated image filenames belonging to 2 classes.\n",
      "Found 59 validated image filenames belonging to 2 classes.\n"
     ]
    }
   ],
   "source": [
    "# Load dataset\n",
    "train_generator, val_generator, test_generator = load_dataset(train_df, val_df, test_df)"
   ]
  },
  {
   "cell_type": "markdown",
   "id": "027111ca",
   "metadata": {
    "papermill": {
     "duration": 0.004772,
     "end_time": "2022-12-08T10:58:22.293579",
     "exception": false,
     "start_time": "2022-12-08T10:58:22.288807",
     "status": "completed"
    },
    "tags": []
   },
   "source": [
    "# **Model definition**"
   ]
  },
  {
   "cell_type": "code",
   "execution_count": 8,
   "id": "887d1337",
   "metadata": {
    "execution": {
     "iopub.execute_input": "2022-12-08T10:58:22.304312Z",
     "iopub.status.busy": "2022-12-08T10:58:22.303856Z",
     "iopub.status.idle": "2022-12-08T10:58:27.811624Z",
     "shell.execute_reply": "2022-12-08T10:58:27.809746Z"
    },
    "papermill": {
     "duration": 5.51553,
     "end_time": "2022-12-08T10:58:27.813829",
     "exception": false,
     "start_time": "2022-12-08T10:58:22.298299",
     "status": "completed"
    },
    "tags": []
   },
   "outputs": [
    {
     "name": "stderr",
     "output_type": "stream",
     "text": [
      "2022-12-08 10:58:22.397923: I tensorflow/stream_executor/cuda/cuda_gpu_executor.cc:937] successful NUMA node read from SysFS had negative value (-1), but there must be at least one NUMA node, so returning NUMA node zero\n",
      "2022-12-08 10:58:22.503276: I tensorflow/stream_executor/cuda/cuda_gpu_executor.cc:937] successful NUMA node read from SysFS had negative value (-1), but there must be at least one NUMA node, so returning NUMA node zero\n",
      "2022-12-08 10:58:22.504116: I tensorflow/stream_executor/cuda/cuda_gpu_executor.cc:937] successful NUMA node read from SysFS had negative value (-1), but there must be at least one NUMA node, so returning NUMA node zero\n",
      "2022-12-08 10:58:22.505995: I tensorflow/core/platform/cpu_feature_guard.cc:142] This TensorFlow binary is optimized with oneAPI Deep Neural Network Library (oneDNN) to use the following CPU instructions in performance-critical operations:  AVX2 AVX512F FMA\n",
      "To enable them in other operations, rebuild TensorFlow with the appropriate compiler flags.\n",
      "2022-12-08 10:58:22.506368: I tensorflow/stream_executor/cuda/cuda_gpu_executor.cc:937] successful NUMA node read from SysFS had negative value (-1), but there must be at least one NUMA node, so returning NUMA node zero\n",
      "2022-12-08 10:58:22.507058: I tensorflow/stream_executor/cuda/cuda_gpu_executor.cc:937] successful NUMA node read from SysFS had negative value (-1), but there must be at least one NUMA node, so returning NUMA node zero\n",
      "2022-12-08 10:58:22.507736: I tensorflow/stream_executor/cuda/cuda_gpu_executor.cc:937] successful NUMA node read from SysFS had negative value (-1), but there must be at least one NUMA node, so returning NUMA node zero\n",
      "2022-12-08 10:58:24.744516: I tensorflow/stream_executor/cuda/cuda_gpu_executor.cc:937] successful NUMA node read from SysFS had negative value (-1), but there must be at least one NUMA node, so returning NUMA node zero\n",
      "2022-12-08 10:58:24.745414: I tensorflow/stream_executor/cuda/cuda_gpu_executor.cc:937] successful NUMA node read from SysFS had negative value (-1), but there must be at least one NUMA node, so returning NUMA node zero\n",
      "2022-12-08 10:58:24.746075: I tensorflow/stream_executor/cuda/cuda_gpu_executor.cc:937] successful NUMA node read from SysFS had negative value (-1), but there must be at least one NUMA node, so returning NUMA node zero\n",
      "2022-12-08 10:58:24.746681: I tensorflow/core/common_runtime/gpu/gpu_device.cc:1510] Created device /job:localhost/replica:0/task:0/device:GPU:0 with 15401 MB memory:  -> device: 0, name: Tesla P100-PCIE-16GB, pci bus id: 0000:00:04.0, compute capability: 6.0\n"
     ]
    },
    {
     "name": "stdout",
     "output_type": "stream",
     "text": [
      "Downloading data from https://storage.googleapis.com/tensorflow/keras-applications/vgg16/vgg16_weights_tf_dim_ordering_tf_kernels_notop.h5\n",
      "58892288/58889256 [==============================] - 2s 0us/step\n",
      "58900480/58889256 [==============================] - 2s 0us/step\n",
      "Model: \"sequential\"\n",
      "_________________________________________________________________\n",
      "Layer (type)                 Output Shape              Param #   \n",
      "=================================================================\n",
      "vgg16 (Functional)           (None, 7, 7, 512)         14714688  \n",
      "_________________________________________________________________\n",
      "flatten (Flatten)            (None, 25088)             0         \n",
      "_________________________________________________________________\n",
      "dense (Dense)                (None, 4096)              102764544 \n",
      "_________________________________________________________________\n",
      "dense_1 (Dense)              (None, 2048)              8390656   \n",
      "_________________________________________________________________\n",
      "dense_2 (Dense)              (None, 1)                 2049      \n",
      "=================================================================\n",
      "Total params: 125,871,937\n",
      "Trainable params: 125,871,937\n",
      "Non-trainable params: 0\n",
      "_________________________________________________________________\n"
     ]
    }
   ],
   "source": [
    "# Free up RAM in case the model definition cells were run multiple times\n",
    "keras.backend.clear_session()\n",
    "\n",
    "# Build model\n",
    "model = keras.models.Sequential()\n",
    "model.add(VGG16(include_top=False, input_shape=(224, 224, 3), weights='imagenet'))\n",
    "model.add(tf.keras.layers.Flatten())\n",
    "model.add(tf.keras.layers.Dense(4096, activation='relu'))\n",
    "model.add(tf.keras.layers.Dense(2048, activation='relu'))\n",
    "model.add(tf.keras.layers.Dense(1, activation='sigmoid'))\n",
    "model.summary()"
   ]
  },
  {
   "cell_type": "code",
   "execution_count": 9,
   "id": "733ba27c",
   "metadata": {
    "execution": {
     "iopub.execute_input": "2022-12-08T10:58:27.830239Z",
     "iopub.status.busy": "2022-12-08T10:58:27.829915Z",
     "iopub.status.idle": "2022-12-08T10:58:27.835763Z",
     "shell.execute_reply": "2022-12-08T10:58:27.834745Z"
    },
    "papermill": {
     "duration": 0.015861,
     "end_time": "2022-12-08T10:58:27.837858",
     "exception": false,
     "start_time": "2022-12-08T10:58:27.821997",
     "status": "completed"
    },
    "tags": []
   },
   "outputs": [],
   "source": [
    "# Choose optimizer - SGD - RMSprop - Adam\n",
    "if optimizer == \"SGD\": \n",
    "    fit_optimizer = tf.keras.optimizers.SGD(learning_rate=learning_rate, momentum=0.9, decay=learning_rate/epochs)\n",
    "elif optimizer == \"RMSprop\":\n",
    "    fit_optimizer = tf.keras.optimizers.RMSprop(learning_rate=learning_rate, decay=learning_rate/epochs)\n",
    "else: \n",
    "    fit_optimizer = tf.keras.optimizers.Adam(learning_rate=learning_rate, epsilon=1e-7, amsgrad=True)"
   ]
  },
  {
   "cell_type": "markdown",
   "id": "0bb69e31",
   "metadata": {
    "papermill": {
     "duration": 0.006649,
     "end_time": "2022-12-08T10:58:27.851385",
     "exception": false,
     "start_time": "2022-12-08T10:58:27.844736",
     "status": "completed"
    },
    "tags": []
   },
   "source": [
    "# **Model training**"
   ]
  },
  {
   "cell_type": "code",
   "execution_count": 10,
   "id": "63195489",
   "metadata": {
    "execution": {
     "iopub.execute_input": "2022-12-08T10:58:27.866234Z",
     "iopub.status.busy": "2022-12-08T10:58:27.865928Z",
     "iopub.status.idle": "2022-12-08T10:59:15.373910Z",
     "shell.execute_reply": "2022-12-08T10:59:15.372986Z"
    },
    "papermill": {
     "duration": 47.518168,
     "end_time": "2022-12-08T10:59:15.376302",
     "exception": false,
     "start_time": "2022-12-08T10:58:27.858134",
     "status": "completed"
    },
    "tags": []
   },
   "outputs": [
    {
     "name": "stderr",
     "output_type": "stream",
     "text": [
      "2022-12-08 10:58:27.990421: I tensorflow/compiler/mlir/mlir_graph_optimization_pass.cc:185] None of the MLIR Optimization Passes are enabled (registered 2)\n"
     ]
    },
    {
     "name": "stdout",
     "output_type": "stream",
     "text": [
      "Epoch 1/5\n"
     ]
    },
    {
     "name": "stderr",
     "output_type": "stream",
     "text": [
      "2022-12-08 10:58:30.218771: I tensorflow/stream_executor/cuda/cuda_dnn.cc:369] Loaded cuDNN version 8005\n"
     ]
    },
    {
     "name": "stdout",
     "output_type": "stream",
     "text": [
      "58/58 [==============================] - 15s 110ms/step - loss: 26818.3145 - accuracy: 0.5043 - val_loss: 0.6911 - val_accuracy: 0.5424\n",
      "Epoch 2/5\n",
      "58/58 [==============================] - 6s 97ms/step - loss: 0.6933 - accuracy: 0.5194 - val_loss: 0.6909 - val_accuracy: 0.5424\n",
      "Epoch 3/5\n",
      "58/58 [==============================] - 6s 95ms/step - loss: 0.6926 - accuracy: 0.5065 - val_loss: 0.6928 - val_accuracy: 0.5424\n",
      "Epoch 4/5\n",
      "58/58 [==============================] - 5s 94ms/step - loss: 0.6934 - accuracy: 0.5194 - val_loss: 0.6918 - val_accuracy: 0.5424\n",
      "Epoch 5/5\n",
      "58/58 [==============================] - 6s 95ms/step - loss: 0.6931 - accuracy: 0.5194 - val_loss: 0.6911 - val_accuracy: 0.5424\n"
     ]
    },
    {
     "data": {
      "text/plain": [
       "'model.save_weights(\"model.h5\")\\nprint(\"Saved model to disk\")'"
      ]
     },
     "execution_count": 10,
     "metadata": {},
     "output_type": "execute_result"
    }
   ],
   "source": [
    "# Configure the model for training.\n",
    "model.compile(optimizer=fit_optimizer, loss=loss_function, metrics=['accuracy'])\n",
    "\n",
    "# Safe best model\n",
    "callbacks = [keras.callbacks.ModelCheckpoint(\"lesion_segmentaion.h5\", save_best_only=True)]\n",
    "\n",
    "# Train the model, doing validation at the end of each epoch.\n",
    "model_history = model.fit(train_generator, epochs=epochs, validation_data=val_generator, callbacks=callbacks)\n",
    "\n",
    "# Serialize and save model to json\n",
    "'''model_json = model.to_json()\n",
    "with open(\"model.json\", \"w\") as json_file:\n",
    "    json_file.write(model_json)'''\n",
    "    \n",
    "# Serialize and save weights to HDF5\n",
    "'''model.save_weights(\"model.h5\")\n",
    "print(\"Saved model to disk\")'''"
   ]
  },
  {
   "cell_type": "code",
   "execution_count": 11,
   "id": "b2af7e52",
   "metadata": {
    "execution": {
     "iopub.execute_input": "2022-12-08T10:59:15.421078Z",
     "iopub.status.busy": "2022-12-08T10:59:15.420725Z",
     "iopub.status.idle": "2022-12-08T10:59:16.373010Z",
     "shell.execute_reply": "2022-12-08T10:59:16.372024Z"
    },
    "papermill": {
     "duration": 0.976836,
     "end_time": "2022-12-08T10:59:16.375044",
     "exception": false,
     "start_time": "2022-12-08T10:59:15.398208",
     "status": "completed"
    },
    "tags": []
   },
   "outputs": [
    {
     "data": {
      "image/png": "[encoded data removed]",
      "text/plain": [
       "<Figure size 432x288 with 1 Axes>"
      ]
     },
     "metadata": {
      "needs_background": "light"
     },
     "output_type": "display_data"
    },
    {
     "data": {
      "image/png": "[encoded data removed]",
      "text/plain": [
       "<Figure size 432x288 with 1 Axes>"
      ]
     },
     "metadata": {
      "needs_background": "light"
     },
     "output_type": "display_data"
    }
   ],
   "source": [
    "def create_plots(history_plot):\n",
    "    \"\"\"\n",
    "    This functions creates the plots accuracy and loss evolution in training and validation\n",
    "    :param history_plot: Record of training loss values and metrics values at successive epochs\n",
    "    :return: It saves the accuracy and loss plots\n",
    "    \"\"\"\n",
    "    # Accuracy plot\n",
    "    plt.plot(history_plot.history['accuracy'])\n",
    "    plt.plot(history_plot.history['val_accuracy'])\n",
    "    plt.title(f'Model accuracy')\n",
    "    plt.ylabel('accuracy')\n",
    "    plt.xlabel('epoch')\n",
    "    plt.legend(['train', 'val'], loc='upper left')\n",
    "    plt.savefig(f'MAMe_accuracy.pdf')\n",
    "    plt.show()\n",
    "    plt.close()\n",
    "\n",
    "    # Loss plot\n",
    "    plt.plot(history_plot.history['loss'])\n",
    "    plt.plot(history_plot.history['val_loss'])\n",
    "    plt.title(f'Model loss')\n",
    "    plt.ylabel('loss')\n",
    "    plt.xlabel('epoch')\n",
    "    plt.legend(['train', 'val'], loc='upper left')\n",
    "    plt.savefig(f'MAMe_loss.pdf')\n",
    "    plt.show()\n",
    "\n",
    "create_plots(model_history)"
   ]
  },
  {
   "cell_type": "code",
   "execution_count": 12,
   "id": "f6844f18",
   "metadata": {
    "execution": {
     "iopub.execute_input": "2022-12-08T10:59:16.422349Z",
     "iopub.status.busy": "2022-12-08T10:59:16.420740Z",
     "iopub.status.idle": "2022-12-08T10:59:16.961722Z",
     "shell.execute_reply": "2022-12-08T10:59:16.960715Z"
    },
    "papermill": {
     "duration": 0.566553,
     "end_time": "2022-12-08T10:59:16.964006",
     "exception": false,
     "start_time": "2022-12-08T10:59:16.397453",
     "status": "completed"
    },
    "tags": []
   },
   "outputs": [
    {
     "name": "stdout",
     "output_type": "stream",
     "text": [
      "Loss: 0.6901720762252808 \n",
      "Accuracy on test: 0.5593220591545105\n",
      "\n"
     ]
    },
    {
     "data": {
      "text/plain": [
       "\"# Confusion Matrix (validation subset)\\ntest_generator.reset()\\npred = model.predict(test_generator, verbose=0)\\n\\n# Assign most probable label\\npredicted_class_indices = np.argmax(pred, axis=1)\\n\\n# Get class labels\\nlabels = (test_generator.class_indices)\\ntarget_names = labels.keys()\\n\\n# Plot statistics\\nclassification_report(test_generator.classes, predicted_class_indices, target_names=target_names)\\n\\n# Plot confusion matrix\\ncf_matrix = confusion_matrix(np.array(test_generator.classes), predicted_class_indices)\\nfig, ax = plt.subplots(figsize=(15, 15))\\nheatmap = sns.heatmap(cf_matrix, annot=False, cmap='Blues', cbar=True, square=False,\\n                      xticklabels=target_names, yticklabels=target_names)\\nfig = heatmap.get_figure()\""
      ]
     },
     "execution_count": 12,
     "metadata": {},
     "output_type": "execute_result"
    }
   ],
   "source": [
    "# Evaluate the model\n",
    "test_generator.reset()\n",
    "score = model.evaluate(test_generator, verbose=0)\n",
    "\n",
    "print(f\"Loss: {str(score[0])} \\nAccuracy on test: {str(score[1])}\\n\")\n",
    "\n",
    "'''# Confusion Matrix (validation subset)\n",
    "test_generator.reset()\n",
    "pred = model.predict(test_generator, verbose=0)\n",
    "\n",
    "# Assign most probable label\n",
    "predicted_class_indices = np.argmax(pred, axis=1)\n",
    "\n",
    "# Get class labels\n",
    "labels = (test_generator.class_indices)\n",
    "target_names = labels.keys()\n",
    "\n",
    "# Plot statistics\n",
    "classification_report(test_generator.classes, predicted_class_indices, target_names=target_names)\n",
    "\n",
    "# Plot confusion matrix\n",
    "cf_matrix = confusion_matrix(np.array(test_generator.classes), predicted_class_indices)\n",
    "fig, ax = plt.subplots(figsize=(15, 15))\n",
    "heatmap = sns.heatmap(cf_matrix, annot=False, cmap='Blues', cbar=True, square=False,\n",
    "                      xticklabels=target_names, yticklabels=target_names)\n",
    "fig = heatmap.get_figure()'''"
   ]
  }
 ],
 "metadata": {
  "kernelspec": {
   "display_name": "Python 3",
   "language": "python",
   "name": "python3"
  },
  "language_info": {
   "codemirror_mode": {
    "name": "ipython",
    "version": 3
   },
   "file_extension": ".py",
   "mimetype": "text/x-python",
   "name": "python",
   "nbconvert_exporter": "python",
   "pygments_lexer": "ipython3",
   "version": "3.7.12"
  },
  "papermill": {
   "default_parameters": {},
   "duration": 91.476299,
   "end_time": "2022-12-08T10:59:20.795882",
   "environment_variables": {},
   "exception": null,
   "input_path": "__notebook__.ipynb",
   "output_path": "__notebook__.ipynb",
   "parameters": {},
   "start_time": "2022-12-08T10:57:49.319583",
   "version": "2.3.4"
  }
 },
 "nbformat": 4,
 "nbformat_minor": 5
}
